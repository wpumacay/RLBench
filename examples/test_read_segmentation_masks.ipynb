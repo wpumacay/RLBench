{
 "cells": [
  {
   "cell_type": "code",
   "execution_count": 2,
   "metadata": {},
   "outputs": [],
   "source": [
    "import os\n",
    "import pickle\n",
    "\n",
    "from PIL import Image\n",
    "import numpy as np\n",
    "import matplotlib.pyplot as plt\n",
    "import matplotlib.patches as patches\n",
    "\n",
    "HOME_DIR = os.path.expanduser(\"~\")\n",
    "\n",
    "def rgb_handles_to_mask(rgb_coded_handles):\n",
    "    rgb_coded_handles.astype(int)\n",
    "    return (rgb_coded_handles[:, :, 0] +\n",
    "            rgb_coded_handles[:, :, 1] * 256 +\n",
    "            rgb_coded_handles[:, :, 2] * 256 * 256)\n",
    "\n",
    "# read the mapping stored in names_and_handles.pkl in the stored episodes\n",
    "with open(os.path.join(HOME_DIR, \"data/rlbench_data/open_drawer/variation0/episodes/episode0/names_and_handles.pkl\"), \"rb\") as f:\n",
    "    mapping = pickle.load(f)\n",
    "\n",
    "# read an image from the segmentation masks to check its format\n",
    "with Image.open(os.path.join(HOME_DIR, \"data/rlbench_data/open_drawer/variation0/episodes/episode0/front_mask/0.png\")) as im:\n",
    "    mask_np = rgb_handles_to_mask(np.asarray(im))\n",
    "\n",
    "# read an image from the rgb images to overlay the bounding boxes over\n",
    "with Image.open(os.path.join(HOME_DIR, \"data/rlbench_data/open_drawer/variation0/episodes/episode0/front_rgb/0.png\")) as im:\n",
    "    rgb_np = np.asarray(im)"
   ]
  },
  {
   "cell_type": "code",
   "execution_count": 3,
   "metadata": {},
   "outputs": [
    {
     "data": {
      "text/plain": [
       "(96, 12)"
      ]
     },
     "execution_count": 3,
     "metadata": {},
     "output_type": "execute_result"
    }
   ],
   "source": [
    "mapping[\"drawer_frame\"], mapping[\"Panda\"]"
   ]
  },
  {
   "cell_type": "code",
   "execution_count": 4,
   "metadata": {},
   "outputs": [
    {
     "name": "stdout",
     "output_type": "stream",
     "text": [
      "xmin: 0, xmax: 57, ymin: 35, ymax: 107\n"
     ]
    }
   ],
   "source": [
    "# Find the bounding box of the drawer\n",
    "seg = np.where(mask_np == mapping[\"drawer_frame\"])\n",
    "bbox = 0, 0, 0, 0\n",
    "if len(seg) != 0 and len(seg[0]) != 0 and len(seg[1]) != 0:\n",
    "    x_min = int(np.min(seg[1]))\n",
    "    x_max = int(np.max(seg[1]))\n",
    "    y_min = int(np.min(seg[0]))\n",
    "    y_max = int(np.max(seg[0]))\n",
    "\n",
    "    bbox = x_min, x_max, y_min, y_max\n",
    "print(f\"xmin: {bbox[0]}, xmax: {bbox[1]}, ymin: {bbox[2]}, ymax: {bbox[3]}\")"
   ]
  },
  {
   "cell_type": "code",
   "execution_count": 4,
   "metadata": {},
   "outputs": [
    {
     "data": {
      "text/plain": [
       "(array([ 35,  35,  35, ..., 107, 107, 107]),\n",
       " array([ 7,  8,  9, ..., 13, 14, 15]))"
      ]
     },
     "execution_count": 4,
     "metadata": {},
     "output_type": "execute_result"
    }
   ],
   "source": [
    "seg"
   ]
  },
  {
   "cell_type": "code",
   "execution_count": 7,
   "metadata": {},
   "outputs": [],
   "source": [
    "img_seg = np.zeros((128, 128)).astype(np.uint8)"
   ]
  },
  {
   "cell_type": "code",
   "execution_count": 8,
   "metadata": {},
   "outputs": [],
   "source": [
    "img_seg[seg[0], seg[1]] = 255"
   ]
  },
  {
   "cell_type": "code",
   "execution_count": 9,
   "metadata": {},
   "outputs": [
    {
     "data": {
      "image/png": "[encoded data removed]",
      "text/plain": [
       "<Figure size 640x480 with 2 Axes>"
      ]
     },
     "metadata": {},
     "output_type": "display_data"
    }
   ],
   "source": [
    "fig, axs = plt.subplots(1, 2)\n",
    "\n",
    "rect = patches.Rectangle((bbox[0], bbox[2]), bbox[1] - bbox[0], bbox[3] - bbox[2], linewidth=1, edgecolor='r', facecolor='none')\n",
    "\n",
    "axs[0].imshow(mask_np)\n",
    "axs[0].add_patch(rect)\n",
    "axs[0].set_title(\"Image mask\")\n",
    "\n",
    "axs[1].imshow(img_seg)\n",
    "axs[1].set_title(\"Drawer cropped\")\n",
    "\n",
    "plt.show()\n",
    "#plt.imshow(img_seg)\n",
    "#plt.imshow(mask_np)"
   ]
  },
  {
   "cell_type": "code",
   "execution_count": null,
   "metadata": {},
   "outputs": [],
   "source": []
  }
 ],
 "metadata": {
  "kernelspec": {
   "display_name": "venv",
   "language": "python",
   "name": "python3"
  },
  "language_info": {
   "codemirror_mode": {
    "name": "ipython",
    "version": 3
   },
   "file_extension": ".py",
   "mimetype": "text/x-python",
   "name": "python",
   "nbconvert_exporter": "python",
   "pygments_lexer": "ipython3",
   "version": "3.11.7"
  }
 },
 "nbformat": 4,
 "nbformat_minor": 2
}
